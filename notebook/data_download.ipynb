{
 "cells": [
  {
   "cell_type": "markdown",
   "metadata": {},
   "source": [
    "# Downloading the Data"
   ]
  },
  {
   "cell_type": "code",
   "execution_count": 1,
   "metadata": {},
   "outputs": [
    {
     "ename": "SyntaxError",
     "evalue": "invalid syntax (1691925645.py, line 1)",
     "output_type": "error",
     "traceback": [
      "\u001b[0;36m  Cell \u001b[0;32mIn[1], line 1\u001b[0;36m\u001b[0m\n\u001b[0;31m    curl 'https://www.consumerfinance.gov/data-research/consumer-complaints/search/?date_received_max=2023-09-23&date_received_min=2011-12-01&page=1&searchField=all&size=25&sort=created_date_desc&tab=List'\u001b[0m\n\u001b[0m         ^\u001b[0m\n\u001b[0;31mSyntaxError\u001b[0m\u001b[0;31m:\u001b[0m invalid syntax\n"
     ]
    }
   ],
   "source": [
    "curl 'https://www.consumerfinance.gov/data-research/consumer-complaints/search/?date_received_max=2023-09-23&date_received_min=2022-12-01&page=1&searchField=all&size=25&sort=created_date_desc&tab=List'"
   ]
  },
  {
   "cell_type": "code",
   "execution_count": 2,
   "metadata": {},
   "outputs": [],
   "source": [
    "# 01-01-2022 to today data url\n",
    "\"https://files.consumerfinance.gov/ccdb/complaints.csv.zip\"\n",
    "\"https://files.consumerfinance.gov/ccdb/complaints.json.zip\"\n",
    "\"https://www.consumerfinance.gov/data-research/consumer-complaints/search/api/v1/?date_received_max=2023-09-23&date_received_min=2021-12-31&field=all&format=json&no_aggs=true&size=1688849&sort=created_date_desc\"\n"
   ]
  },
  {
   "cell_type": "code",
   "execution_count": 5,
   "metadata": {},
   "outputs": [],
   "source": [
    "import requests\n",
    "url =  \"https://www.consumerfinance.gov/data-research/consumer-complaints/search/api/v1/?date_received_max=2023-01-23&date_received_min=2022-12-31&field=all&format=json\"\n",
    "\n",
    "response = requests.get(url)\n",
    "\n"
   ]
  },
  {
   "cell_type": "code",
   "execution_count": 4,
   "metadata": {},
   "outputs": [
    {
     "name": "stdout",
     "output_type": "stream",
     "text": [
      "file downloaded sucessfuly.\n"
     ]
    }
   ],
   "source": [
    "if response.status_code == 200:\n",
    "    with open(\"file.zip\",\"wb\")as file:\n",
    "        file.write(response.content)\n",
    "    print(\"file downloaded sucessfuly.\")\n",
    "\n",
    "else:\n",
    "    print(\"failed to download.\")"
   ]
  },
  {
   "cell_type": "code",
   "execution_count": 6,
   "metadata": {},
   "outputs": [
    {
     "name": "stdout",
     "output_type": "stream",
     "text": [
      "file downloaded sucessfuly.\n"
     ]
    }
   ],
   "source": [
    "if response.status_code == 200:\n",
    "    with open(\"raw_data.json\",\"wb\")as file:\n",
    "        file.write(response.content)\n",
    "    print(\"file downloaded sucessfuly.\")\n",
    "\n",
    "else:\n",
    "    print(\"failed to download.\")"
   ]
  },
  {
   "cell_type": "markdown",
   "metadata": {},
   "source": [
    "# read the data"
   ]
  },
  {
   "cell_type": "code",
   "execution_count": 7,
   "metadata": {},
   "outputs": [],
   "source": [
    "import json\n",
    "with open(\"raw_data.json\",'r') as file:\n",
    "    data = json.load(file)\n"
   ]
  },
  {
   "cell_type": "code",
   "execution_count": 9,
   "metadata": {},
   "outputs": [],
   "source": [
    "import pandas as pd "
   ]
  },
  {
   "cell_type": "code",
   "execution_count": 10,
   "metadata": {},
   "outputs": [
    {
     "data": {
      "text/html": [
       "<div>\n",
       "<style scoped>\n",
       "    .dataframe tbody tr th:only-of-type {\n",
       "        vertical-align: middle;\n",
       "    }\n",
       "\n",
       "    .dataframe tbody tr th {\n",
       "        vertical-align: top;\n",
       "    }\n",
       "\n",
       "    .dataframe thead th {\n",
       "        text-align: right;\n",
       "    }\n",
       "</style>\n",
       "<table border=\"1\" class=\"dataframe\">\n",
       "  <thead>\n",
       "    <tr style=\"text-align: right;\">\n",
       "      <th></th>\n",
       "      <th>_index</th>\n",
       "      <th>_type</th>\n",
       "      <th>_id</th>\n",
       "      <th>_score</th>\n",
       "      <th>_source</th>\n",
       "      <th>sort</th>\n",
       "    </tr>\n",
       "  </thead>\n",
       "  <tbody>\n",
       "    <tr>\n",
       "      <th>0</th>\n",
       "      <td>complaint-public-v1</td>\n",
       "      <td>_doc</td>\n",
       "      <td>6447171</td>\n",
       "      <td>NaN</td>\n",
       "      <td>{'product': 'Credit reporting, credit repair s...</td>\n",
       "      <td>[1]</td>\n",
       "    </tr>\n",
       "    <tr>\n",
       "      <th>1</th>\n",
       "      <td>complaint-public-v1</td>\n",
       "      <td>_doc</td>\n",
       "      <td>6447170</td>\n",
       "      <td>NaN</td>\n",
       "      <td>{'product': 'Credit reporting, credit repair s...</td>\n",
       "      <td>[2]</td>\n",
       "    </tr>\n",
       "    <tr>\n",
       "      <th>2</th>\n",
       "      <td>complaint-public-v1</td>\n",
       "      <td>_doc</td>\n",
       "      <td>6447164</td>\n",
       "      <td>NaN</td>\n",
       "      <td>{'product': 'Credit card or prepaid card', 'co...</td>\n",
       "      <td>[7]</td>\n",
       "    </tr>\n",
       "    <tr>\n",
       "      <th>3</th>\n",
       "      <td>complaint-public-v1</td>\n",
       "      <td>_doc</td>\n",
       "      <td>6447068</td>\n",
       "      <td>NaN</td>\n",
       "      <td>{'product': 'Credit reporting, credit repair s...</td>\n",
       "      <td>[9]</td>\n",
       "    </tr>\n",
       "    <tr>\n",
       "      <th>4</th>\n",
       "      <td>complaint-public-v1</td>\n",
       "      <td>_doc</td>\n",
       "      <td>6447060</td>\n",
       "      <td>NaN</td>\n",
       "      <td>{'product': 'Credit reporting, credit repair s...</td>\n",
       "      <td>[10]</td>\n",
       "    </tr>\n",
       "    <tr>\n",
       "      <th>...</th>\n",
       "      <td>...</td>\n",
       "      <td>...</td>\n",
       "      <td>...</td>\n",
       "      <td>...</td>\n",
       "      <td>...</td>\n",
       "      <td>...</td>\n",
       "    </tr>\n",
       "    <tr>\n",
       "      <th>70365</th>\n",
       "      <td>complaint-public-v1</td>\n",
       "      <td>_doc</td>\n",
       "      <td>6470492</td>\n",
       "      <td>NaN</td>\n",
       "      <td>{'product': 'Credit reporting, credit repair s...</td>\n",
       "      <td>[823565]</td>\n",
       "    </tr>\n",
       "    <tr>\n",
       "      <th>70366</th>\n",
       "      <td>complaint-public-v1</td>\n",
       "      <td>_doc</td>\n",
       "      <td>6469891</td>\n",
       "      <td>NaN</td>\n",
       "      <td>{'product': 'Checking or savings account', 'co...</td>\n",
       "      <td>[823570]</td>\n",
       "    </tr>\n",
       "    <tr>\n",
       "      <th>70367</th>\n",
       "      <td>complaint-public-v1</td>\n",
       "      <td>_doc</td>\n",
       "      <td>6468038</td>\n",
       "      <td>NaN</td>\n",
       "      <td>{'product': 'Checking or savings account', 'co...</td>\n",
       "      <td>[823573]</td>\n",
       "    </tr>\n",
       "    <tr>\n",
       "      <th>70368</th>\n",
       "      <td>complaint-public-v1</td>\n",
       "      <td>_doc</td>\n",
       "      <td>6463433</td>\n",
       "      <td>NaN</td>\n",
       "      <td>{'product': 'Debt collection', 'complaint_what...</td>\n",
       "      <td>[823584]</td>\n",
       "    </tr>\n",
       "    <tr>\n",
       "      <th>70369</th>\n",
       "      <td>complaint-public-v1</td>\n",
       "      <td>_doc</td>\n",
       "      <td>6431564</td>\n",
       "      <td>NaN</td>\n",
       "      <td>{'product': 'Checking or savings account', 'co...</td>\n",
       "      <td>[823720]</td>\n",
       "    </tr>\n",
       "  </tbody>\n",
       "</table>\n",
       "<p>70370 rows × 6 columns</p>\n",
       "</div>"
      ],
      "text/plain": [
       "                    _index _type      _id  _score  \\\n",
       "0      complaint-public-v1  _doc  6447171     NaN   \n",
       "1      complaint-public-v1  _doc  6447170     NaN   \n",
       "2      complaint-public-v1  _doc  6447164     NaN   \n",
       "3      complaint-public-v1  _doc  6447068     NaN   \n",
       "4      complaint-public-v1  _doc  6447060     NaN   \n",
       "...                    ...   ...      ...     ...   \n",
       "70365  complaint-public-v1  _doc  6470492     NaN   \n",
       "70366  complaint-public-v1  _doc  6469891     NaN   \n",
       "70367  complaint-public-v1  _doc  6468038     NaN   \n",
       "70368  complaint-public-v1  _doc  6463433     NaN   \n",
       "70369  complaint-public-v1  _doc  6431564     NaN   \n",
       "\n",
       "                                                 _source      sort  \n",
       "0      {'product': 'Credit reporting, credit repair s...       [1]  \n",
       "1      {'product': 'Credit reporting, credit repair s...       [2]  \n",
       "2      {'product': 'Credit card or prepaid card', 'co...       [7]  \n",
       "3      {'product': 'Credit reporting, credit repair s...       [9]  \n",
       "4      {'product': 'Credit reporting, credit repair s...      [10]  \n",
       "...                                                  ...       ...  \n",
       "70365  {'product': 'Credit reporting, credit repair s...  [823565]  \n",
       "70366  {'product': 'Checking or savings account', 'co...  [823570]  \n",
       "70367  {'product': 'Checking or savings account', 'co...  [823573]  \n",
       "70368  {'product': 'Debt collection', 'complaint_what...  [823584]  \n",
       "70369  {'product': 'Checking or savings account', 'co...  [823720]  \n",
       "\n",
       "[70370 rows x 6 columns]"
      ]
     },
     "execution_count": 10,
     "metadata": {},
     "output_type": "execute_result"
    }
   ],
   "source": [
    "df = pd.read_json('raw_data.json')\n",
    "df"
   ]
  },
  {
   "cell_type": "code",
   "execution_count": 3,
   "metadata": {},
   "outputs": [
    {
     "name": "stdout",
     "output_type": "stream",
     "text": [
      "asttokens==2.4.0\n",
      "backcall==0.2.0\n",
      "certifi==2023.7.22\n",
      "charset-normalizer==3.2.0\n",
      "comm==0.1.4\n",
      "debugpy==1.8.0\n",
      "decorator==5.1.1\n",
      "exceptiongroup==1.1.3\n",
      "executing==1.2.0\n",
      "idna==3.4\n",
      "ipykernel==6.25.2\n",
      "ipython==8.15.0\n",
      "jedi==0.19.0\n",
      "jupyter_client==8.3.1\n",
      "jupyter_core==5.3.2\n",
      "matplotlib-inline==0.1.6\n",
      "nest-asyncio==1.5.8\n",
      "packaging==23.1\n",
      "parso==0.8.3\n",
      "pexpect==4.8.0\n",
      "pickleshare==0.7.5\n",
      "platformdirs==3.10.0\n",
      "prompt-toolkit==3.0.39\n",
      "psutil==5.9.5\n",
      "ptyprocess==0.7.0\n",
      "pure-eval==0.2.2\n",
      "Pygments==2.16.1\n",
      "python-dateutil==2.8.2\n",
      "pyzmq==25.1.1\n",
      "requests==2.31.0\n",
      "six==1.16.0\n",
      "stack-data==0.6.2\n",
      "tornado==6.3.3\n",
      "traitlets==5.10.1\n",
      "urllib3==2.0.5\n",
      "wcwidth==0.2.6\n"
     ]
    }
   ],
   "source": [
    "!pip freeze"
   ]
  },
  {
   "cell_type": "code",
   "execution_count": null,
   "metadata": {},
   "outputs": [],
   "source": []
  }
 ],
 "metadata": {
  "kernelspec": {
   "display_name": "Python 3.8.10 64-bit",
   "language": "python",
   "name": "python3"
  },
  "language_info": {
   "codemirror_mode": {
    "name": "ipython",
    "version": 3
   },
   "file_extension": ".py",
   "mimetype": "text/x-python",
   "name": "python",
   "nbconvert_exporter": "python",
   "pygments_lexer": "ipython3",
   "version": "3.10.12"
  },
  "orig_nbformat": 4,
  "vscode": {
   "interpreter": {
    "hash": "e7370f93d1d0cde622a1f8e1c04877d8463912d04d973331ad4851f04de6915a"
   }
  }
 },
 "nbformat": 4,
 "nbformat_minor": 2
}
